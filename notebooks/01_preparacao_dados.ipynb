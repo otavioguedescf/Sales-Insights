{
 "cells": [
  {
   "cell_type": "markdown",
   "id": "ce44ed3f",
   "metadata": {},
   "source": [
    "## 1. Geração e manipulação da base de dados"
   ]
  },
  {
   "cell_type": "markdown",
   "id": "6078abcf",
   "metadata": {},
   "source": [
    "### 1.1 Carregamento e estruturação inicial"
   ]
  },
  {
   "cell_type": "code",
   "execution_count": null,
   "id": "8a3f2adb",
   "metadata": {},
   "outputs": [],
   "source": [
    "# Imnportanto as bibliotecas\n",
    "import pandas as pd\n",
    "import numpy as np\n",
    "import seaborn as sns\n",
    "import matplotlib.pyplot as plt\n",
    "import os\n",
    "from matplotlib.ticker import PercentFormatter\n",
    "from scipy.stats import zscore\n",
    "import plotly.express as px\n",
    "import streamlit as st\n",
    "from sklearn.model_selection import train_test_split\n",
    "from sklearn.preprocessing import StandardScaler\n",
    "from sklearn.tree import DecisionTreeClassifier\n",
    "from sklearn.metrics import accuracy_score, confusion_matrix, classification_report, make_scorer, f1_score\n",
    "from sklearn.ensemble import RandomForestClassifier\n",
    "from xgboost import XGBClassifier\n",
    "from sklearn.model_selection import cross_val_score\n",
    "from tensorflow.keras.models import Sequential\n",
    "from tensorflow.keras.layers import Dense\n",
    "from tensorflow.keras.optimizers import Adam\n",
    "from tensorflow.keras import Input"
   ]
  },
  {
   "cell_type": "code",
   "execution_count": null,
   "id": "4a3472e0",
   "metadata": {},
   "outputs": [],
   "source": [
    "# Criando base de dados\n",
    "\n",
    "np.random.seed(42)\n",
    "\n",
    "n_linhas = 10000\n",
    "\n",
    "descrições = [\"Alicate\",\"Martelo\",\"Marreta\",\"Cola\",\"Fita\",\"Parafuso\",\"Lanterna\"]\n",
    "cores = [\"Azul\",\"Vermelho\",\"Preto\",\"Amarelo\",\"Verde\"]\n",
    "regiões = [\"Norte\",\"Sul\",\"Leste\",\"Oeste\",\"Centro-Oeste\"]\n",
    "canais = [\"Online\",\"Loja Física\"]\n",
    "campanhas = [\"Campanha A\",\"Campanha B\",\"Nenhuma\"]\n",
    "descontos = [0,5,10,15]\n",
    "\n",
    "df_vendas = pd.DataFrame({\n",
    "    \"Data\": pd.date_range(\"01/01/2025\",\"31/12/2025\", periods=n_linhas).strftime(\"%d/%m/%Y\"),\n",
    "    \"Descrição\": np.random.choice(descrições,size=n_linhas),\n",
    "    \"Cor\": np.random.choice(cores,size=n_linhas),\n",
    "    \"Quantidade\": np.random.randint(1,10,size=n_linhas),\n",
    "    \"Valor\": np.random.randint(1,100,size=n_linhas),\n",
    "    \"Situação\": np.random.choice([\"Pago\",\"Não pago\"],size=n_linhas),\n",
    "    \"Cliente_ID\": np.random.randint(1000,1100,size=n_linhas),\n",
    "    \"Região\": np.random.choice(regiões,size=n_linhas),\n",
    "    \"Canal_Venda\": np.random.choice(canais,size=n_linhas),\n",
    "    \"Desconto\": np.random.choice(descontos,size=n_linhas),\n",
    "    \"Campanha_Marketing\": np.random.choice(campanhas,size=n_linhas)\n",
    "})\n",
    "\n",
    "# Categoria do produto com base na descrição\n",
    "categoria_map = {\n",
    "    \"Alicate\": \"Ferramenta\",\n",
    "    \"Martelo\": \"Ferramenta\",\n",
    "    \"Marreta\":\"Ferramenta\",\n",
    "    \"Cola\":\"Material\",\n",
    "    \"Fita\":\"Material\",\n",
    "    \"Parafuso\":\"Material\",\n",
    "    \"Lanterna\":\"Eletrônico\"\n",
    "}\n",
    "\n",
    "df_vendas[\"Categoria_Produto\"] = df_vendas[\"Descrição\"].map(categoria_map)\n",
    "\n",
    "# Valor final com desconto\n",
    "df_vendas[\"Valor_Final\"] = (df_vendas[\"Quantidade\"] * df_vendas[\"Valor\"]) * (1- df_vendas[\"Desconto\"] / 100)"
   ]
  },
  {
   "cell_type": "code",
   "execution_count": null,
   "id": "30f24cf4",
   "metadata": {},
   "outputs": [
    {
     "data": {
      "text/html": [
       "<div>\n",
       "<style scoped>\n",
       "    .dataframe tbody tr th:only-of-type {\n",
       "        vertical-align: middle;\n",
       "    }\n",
       "\n",
       "    .dataframe tbody tr th {\n",
       "        vertical-align: top;\n",
       "    }\n",
       "\n",
       "    .dataframe thead th {\n",
       "        text-align: right;\n",
       "    }\n",
       "</style>\n",
       "<table border=\"1\" class=\"dataframe\">\n",
       "  <thead>\n",
       "    <tr style=\"text-align: right;\">\n",
       "      <th></th>\n",
       "      <th>Data</th>\n",
       "      <th>Descrição</th>\n",
       "      <th>Cor</th>\n",
       "      <th>Quantidade</th>\n",
       "      <th>Valor</th>\n",
       "      <th>Situação</th>\n",
       "      <th>Cliente_ID</th>\n",
       "      <th>Região</th>\n",
       "      <th>Canal_Venda</th>\n",
       "      <th>Desconto</th>\n",
       "      <th>Campanha_Marketing</th>\n",
       "      <th>Categoria_Produto</th>\n",
       "      <th>Valor_Final</th>\n",
       "    </tr>\n",
       "  </thead>\n",
       "  <tbody>\n",
       "    <tr>\n",
       "      <th>0</th>\n",
       "      <td>01/01/2025</td>\n",
       "      <td>Lanterna</td>\n",
       "      <td>Vermelho</td>\n",
       "      <td>4</td>\n",
       "      <td>40</td>\n",
       "      <td>Não pago</td>\n",
       "      <td>1027</td>\n",
       "      <td>Leste</td>\n",
       "      <td>Loja Física</td>\n",
       "      <td>5</td>\n",
       "      <td>Campanha A</td>\n",
       "      <td>Eletrônico</td>\n",
       "      <td>152.0</td>\n",
       "    </tr>\n",
       "    <tr>\n",
       "      <th>1</th>\n",
       "      <td>01/01/2025</td>\n",
       "      <td>Cola</td>\n",
       "      <td>Azul</td>\n",
       "      <td>5</td>\n",
       "      <td>6</td>\n",
       "      <td>Não pago</td>\n",
       "      <td>1013</td>\n",
       "      <td>Centro-Oeste</td>\n",
       "      <td>Online</td>\n",
       "      <td>5</td>\n",
       "      <td>Campanha B</td>\n",
       "      <td>Material</td>\n",
       "      <td>28.5</td>\n",
       "    </tr>\n",
       "    <tr>\n",
       "      <th>2</th>\n",
       "      <td>01/01/2025</td>\n",
       "      <td>Fita</td>\n",
       "      <td>Vermelho</td>\n",
       "      <td>5</td>\n",
       "      <td>80</td>\n",
       "      <td>Pago</td>\n",
       "      <td>1075</td>\n",
       "      <td>Centro-Oeste</td>\n",
       "      <td>Online</td>\n",
       "      <td>5</td>\n",
       "      <td>Campanha B</td>\n",
       "      <td>Material</td>\n",
       "      <td>380.0</td>\n",
       "    </tr>\n",
       "    <tr>\n",
       "      <th>3</th>\n",
       "      <td>01/01/2025</td>\n",
       "      <td>Lanterna</td>\n",
       "      <td>Vermelho</td>\n",
       "      <td>9</td>\n",
       "      <td>96</td>\n",
       "      <td>Pago</td>\n",
       "      <td>1007</td>\n",
       "      <td>Norte</td>\n",
       "      <td>Loja Física</td>\n",
       "      <td>15</td>\n",
       "      <td>Campanha B</td>\n",
       "      <td>Eletrônico</td>\n",
       "      <td>734.4</td>\n",
       "    </tr>\n",
       "    <tr>\n",
       "      <th>4</th>\n",
       "      <td>01/01/2025</td>\n",
       "      <td>Marreta</td>\n",
       "      <td>Preto</td>\n",
       "      <td>8</td>\n",
       "      <td>94</td>\n",
       "      <td>Não pago</td>\n",
       "      <td>1006</td>\n",
       "      <td>Sul</td>\n",
       "      <td>Online</td>\n",
       "      <td>15</td>\n",
       "      <td>Campanha A</td>\n",
       "      <td>Ferramenta</td>\n",
       "      <td>639.2</td>\n",
       "    </tr>\n",
       "  </tbody>\n",
       "</table>\n",
       "</div>"
      ],
      "text/plain": [
       "         Data Descrição       Cor  Quantidade  Valor  Situação  Cliente_ID  \\\n",
       "0  01/01/2025  Lanterna  Vermelho           4     40  Não pago        1027   \n",
       "1  01/01/2025      Cola      Azul           5      6  Não pago        1013   \n",
       "2  01/01/2025      Fita  Vermelho           5     80      Pago        1075   \n",
       "3  01/01/2025  Lanterna  Vermelho           9     96      Pago        1007   \n",
       "4  01/01/2025   Marreta     Preto           8     94  Não pago        1006   \n",
       "\n",
       "         Região  Canal_Venda  Desconto Campanha_Marketing Categoria_Produto  \\\n",
       "0         Leste  Loja Física         5         Campanha A        Eletrônico   \n",
       "1  Centro-Oeste       Online         5         Campanha B          Material   \n",
       "2  Centro-Oeste       Online         5         Campanha B          Material   \n",
       "3         Norte  Loja Física        15         Campanha B        Eletrônico   \n",
       "4           Sul       Online        15         Campanha A        Ferramenta   \n",
       "\n",
       "   Valor_Final  \n",
       "0        152.0  \n",
       "1         28.5  \n",
       "2        380.0  \n",
       "3        734.4  \n",
       "4        639.2  "
      ]
     },
     "metadata": {},
     "output_type": "display_data"
    }
   ],
   "source": [
    "#Visualizando o DataFrame\n",
    "df_vendas.head()"
   ]
  },
  {
   "cell_type": "markdown",
   "id": "0f3a5efe",
   "metadata": {},
   "source": [
    "### 1.2 Tratamento de valores nulos"
   ]
  },
  {
   "cell_type": "code",
   "execution_count": null,
   "id": "d916e4e7",
   "metadata": {},
   "outputs": [],
   "source": [
    "# Vamos simular alguns valores nulos\n",
    "df_vendas.loc[np.random.choice(df_vendas.index,size=100,replace=False),\"Valor\"] = np.nan\n",
    "df_vendas.loc[np.random.choice(df_vendas.index,size=100,replace=False),\"Região\"] = np.nan"
   ]
  },
  {
   "cell_type": "code",
   "execution_count": null,
   "id": "aaef1114",
   "metadata": {},
   "outputs": [
    {
     "name": "stdout",
     "output_type": "stream",
     "text": [
      "<class 'pandas.core.frame.DataFrame'>\n",
      "RangeIndex: 10000 entries, 0 to 9999\n",
      "Data columns (total 13 columns):\n",
      " #   Column              Non-Null Count  Dtype  \n",
      "---  ------              --------------  -----  \n",
      " 0   Data                10000 non-null  object \n",
      " 1   Descrição           10000 non-null  object \n",
      " 2   Cor                 10000 non-null  object \n",
      " 3   Quantidade          10000 non-null  int32  \n",
      " 4   Valor               9900 non-null   float64\n",
      " 5   Situação            10000 non-null  object \n",
      " 6   Cliente_ID          10000 non-null  int32  \n",
      " 7   Região              9900 non-null   object \n",
      " 8   Canal_Venda         10000 non-null  object \n",
      " 9   Desconto            10000 non-null  int32  \n",
      " 10  Campanha_Marketing  10000 non-null  object \n",
      " 11  Categoria_Produto   10000 non-null  object \n",
      " 12  Valor_Final         10000 non-null  float64\n",
      "dtypes: float64(2), int32(3), object(8)\n",
      "memory usage: 898.6+ KB\n"
     ]
    }
   ],
   "source": [
    "# Vamos verificar se consta os valores nulos, observem que no Valor e na Região temos 9.900 não nulos ou seja 100 de cada uma das colunas esta com valores nulos\n",
    "df_vendas.info()"
   ]
  },
  {
   "cell_type": "code",
   "execution_count": null,
   "id": "7fbe573b",
   "metadata": {},
   "outputs": [
    {
     "name": "stderr",
     "output_type": "stream",
     "text": [
      "C:\\Users\\Otávio Guedes\\AppData\\Local\\Temp\\ipykernel_22420\\2393086322.py:2: FutureWarning:\n",
      "\n",
      "A value is trying to be set on a copy of a DataFrame or Series through chained assignment using an inplace method.\n",
      "The behavior will change in pandas 3.0. This inplace method will never work because the intermediate object on which we are setting values always behaves as a copy.\n",
      "\n",
      "For example, when doing 'df[col].method(value, inplace=True)', try using 'df.method({col: value}, inplace=True)' or df[col] = df[col].method(value) instead, to perform the operation inplace on the original object.\n",
      "\n",
      "\n",
      "\n",
      "C:\\Users\\Otávio Guedes\\AppData\\Local\\Temp\\ipykernel_22420\\2393086322.py:3: FutureWarning:\n",
      "\n",
      "A value is trying to be set on a copy of a DataFrame or Series through chained assignment using an inplace method.\n",
      "The behavior will change in pandas 3.0. This inplace method will never work because the intermediate object on which we are setting values always behaves as a copy.\n",
      "\n",
      "For example, when doing 'df[col].method(value, inplace=True)', try using 'df.method({col: value}, inplace=True)' or df[col] = df[col].method(value) instead, to perform the operation inplace on the original object.\n",
      "\n",
      "\n",
      "\n"
     ]
    }
   ],
   "source": [
    "# Vamos tratar os valores nulos trocando os da coluna Valor pela sua mediana e os da coluna Região por \"Indefinida\"\n",
    "df_vendas[\"Valor\"].fillna(df_vendas[\"Valor\"].median(),inplace=True)\n",
    "df_vendas[\"Região\"].fillna(\"Indefinida\",inplace=True)"
   ]
  },
  {
   "cell_type": "code",
   "execution_count": null,
   "id": "87498e9f",
   "metadata": {},
   "outputs": [
    {
     "name": "stdout",
     "output_type": "stream",
     "text": [
      "<class 'pandas.core.frame.DataFrame'>\n",
      "RangeIndex: 10000 entries, 0 to 9999\n",
      "Data columns (total 13 columns):\n",
      " #   Column              Non-Null Count  Dtype  \n",
      "---  ------              --------------  -----  \n",
      " 0   Data                10000 non-null  object \n",
      " 1   Descrição           10000 non-null  object \n",
      " 2   Cor                 10000 non-null  object \n",
      " 3   Quantidade          10000 non-null  int32  \n",
      " 4   Valor               10000 non-null  float64\n",
      " 5   Situação            10000 non-null  object \n",
      " 6   Cliente_ID          10000 non-null  int32  \n",
      " 7   Região              10000 non-null  object \n",
      " 8   Canal_Venda         10000 non-null  object \n",
      " 9   Desconto            10000 non-null  int32  \n",
      " 10  Campanha_Marketing  10000 non-null  object \n",
      " 11  Categoria_Produto   10000 non-null  object \n",
      " 12  Valor_Final         10000 non-null  float64\n",
      "dtypes: float64(2), int32(3), object(8)\n",
      "memory usage: 898.6+ KB\n"
     ]
    }
   ],
   "source": [
    "df_vendas.info()"
   ]
  },
  {
   "cell_type": "markdown",
   "id": "b7e2aa88",
   "metadata": {},
   "source": [
    " ### 1.3 Conversão de tipos e datas"
   ]
  },
  {
   "cell_type": "code",
   "execution_count": null,
   "id": "bc2d07fa",
   "metadata": {},
   "outputs": [],
   "source": [
    "# Converter a coluna Data para datetime\n",
    "df_vendas[\"Data\"] = pd.to_datetime(df_vendas[\"Data\"], format=\"%d/%m/%Y\")"
   ]
  },
  {
   "cell_type": "code",
   "execution_count": null,
   "id": "8a5023fb",
   "metadata": {},
   "outputs": [
    {
     "name": "stdout",
     "output_type": "stream",
     "text": [
      "<class 'pandas.core.series.Series'>\n",
      "RangeIndex: 10000 entries, 0 to 9999\n",
      "Series name: Data\n",
      "Non-Null Count  Dtype         \n",
      "--------------  -----         \n",
      "10000 non-null  datetime64[ns]\n",
      "dtypes: datetime64[ns](1)\n",
      "memory usage: 78.3 KB\n"
     ]
    }
   ],
   "source": [
    "df_vendas[\"Data\"].info()"
   ]
  },
  {
   "cell_type": "markdown",
   "id": "d2b2f5b5",
   "metadata": {},
   "source": [
    "###  1.4 Criação de colunas derivadas"
   ]
  },
  {
   "cell_type": "code",
   "execution_count": null,
   "id": "4abb0578",
   "metadata": {},
   "outputs": [],
   "source": [
    "# Vamos criar algumas colunas derivadas\n",
    "\n",
    "# Ticket médio por cliente (Cria um dataframe)\n",
    "ticket_medio = df_vendas.groupby(\"Cliente_ID\")[\"Valor_Final\"].mean().round(2).reset_index()\n",
    "ticket_medio.rename(columns={\"Valor_Final\":\"Ticket_Medio\"},inplace=True)\n",
    "\n",
    "# Utilizando o merge para juntar a coluna Ticket_Medio no DataFrame\n",
    "df_vendas = df_vendas.merge(ticket_medio, on=\"Cliente_ID\",how=\"left\")"
   ]
  }
 ],
 "metadata": {
  "language_info": {
   "name": "python"
  }
 },
 "nbformat": 4,
 "nbformat_minor": 5
}
