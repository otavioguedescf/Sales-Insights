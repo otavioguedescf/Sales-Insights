{
 "cells": [
  {
   "cell_type": "markdown",
   "id": "8ee6cd51",
   "metadata": {},
   "source": [
    "## 3. Visualização de Dados"
   ]
  },
  {
   "cell_type": "markdown",
   "id": "1236a45c",
   "metadata": {},
   "source": [
    "### 3.1 Gráficos com matplotlib e seaborn"
   ]
  },
  {
   "cell_type": "code",
   "execution_count": null,
   "id": "bfd213a1",
   "metadata": {},
   "outputs": [
    {
     "data": {
      "image/png": "[encoded data removed]",
      "text/plain": [
       "<Figure size 1000x600 with 1 Axes>"
      ]
     },
     "metadata": {},
     "output_type": "display_data"
    }
   ],
   "source": [
    "# Vamos visualizar nosso faturamento por categoria\n",
    "fat_categoria = (\n",
    "    df_vendas.groupby(\"Categoria_Produto\")[[\"Valor_Final\"]]\n",
    "    .agg({\n",
    "        \"Valor_Final\":\"sum\"\n",
    "    })\n",
    "    .sort_values(\"Valor_Final\",ascending=False)\n",
    "    .reset_index()\n",
    ")\n",
    "\n",
    "fat_categoria[\"Valor_Final_K\"] = (fat_categoria[\"Valor_Final\"] / 1000).round(2)\n",
    "\n",
    "# Visualizando o gráfico\n",
    "fig, ax = plt.subplots(1,1,figsize=(10,6))\n",
    "sns.set_style(\"whitegrid\")\n",
    "ax1 = sns.barplot(\n",
    "    data=fat_categoria,\n",
    "    x=\"Categoria_Produto\",\n",
    "    hue=\"Categoria_Produto\",\n",
    "    y=\"Valor_Final_K\",\n",
    "    palette=[\"#3b4c66\", \"#2c7c78\", \"#70ad47\"],\n",
    "    legend=False,\n",
    "    ax=ax\n",
    ")\n",
    "\n",
    "ax.set_title(\"Faturamento por categoria de produto (R$)\",fontsize=16,weight=\"bold\", pad=15)\n",
    "ax.set_xlabel(\"\")\n",
    "ax.set_ylabel(\"\")\n",
    "ax.tick_params(axis=\"x\", labelsize=12)\n",
    "ax.tick_params(axis=\"y\", left=False, labelleft=False)\n",
    "ax.grid(False)\n",
    "\n",
    "# Acrescentando rodulo de dados\n",
    "\n",
    "for p in ax.patches:\n",
    "    valor = p.get_height()\n",
    "    ax.text(\n",
    "        x= p.get_x() + p.get_width()/2,\n",
    "        y=valor + 20,\n",
    "        ha=\"center\",\n",
    "        s=valor,\n",
    "        fontsize=11,\n",
    "        fontweight=\"bold\"\n",
    "    )\n",
    "\n",
    "plt.figtext(\n",
    "    x=0.98,\n",
    "    y=0.02,\n",
    "    s=\"Valores em mil\",\n",
    "    ha=\"right\",\n",
    "    fontsize=9,\n",
    "    weight=\"bold\",\n",
    "    color=\"gray\"\n",
    ")\n",
    "plt.tight_layout()\n"
   ]
  },
  {
   "cell_type": "markdown",
   "id": "0bf21ba3",
   "metadata": {},
   "source": [
    "Resultado da análise\n",
    "\n",
    "🔹 Faturamento por categoria\n",
    "\n",
    "Observamos que nosso faturamento está concentrado com as maiores partes na categoria de \"material\" e \"ferramenta\".\n",
    "\n",
    "📌 Insight de negócio: Podemos estudar a possibilidade de realizarmos vendas com convergência ou seja numa venda de material vender eletrônico em um mix."
   ]
  },
  {
   "cell_type": "markdown",
   "id": "fed78e59",
   "metadata": {},
   "source": [
    "###  3.2 Gráfico Interativos com Plotly"
   ]
  },
  {
   "cell_type": "code",
   "execution_count": null,
   "id": "019b0c75",
   "metadata": {},
   "outputs": [
    {
     "data": {
      "application/vnd.plotly.v1+json": {
       "config": {
        "plotlyServerURL": "https://plot.ly"
       },
       "data": [
        {
         "alignmentgroup": "True",
         "hovertemplate": "Campanha=Nenhuma<br>Canal=Online<br>Região=%{x}<br>Valor Total (R$)=%{y}<extra></extra>",
         "legendgroup": "Nenhuma",
         "marker": {
          "color": "#AA9FB1",
          "pattern": {
           "shape": ""
          }
         },
         "name": "Nenhuma",
         "offsetgroup": "Nenhuma",
         "orientation": "v",
         "showlegend": true,
         "textfont": {
          "size": 11
         },
         "textposition": "auto",
         "texttemplate": "%{y:.2s}",
         "type": "bar",
         "x": [
          "Leste",
          "Oeste",
          "Norte",
          "Indefinida",
          "Sul",
          "Centro-Oeste"
         ],
         "xaxis": "x",
         "y": [
          70086.45,
          67078.65,
          73932.9,
          4691.95,
          75858.3,
          79557.7
         ],
         "yaxis": "y"
        },
        {
         "alignmentgroup": "True",
         "hovertemplate": "Campanha=Nenhuma<br>Canal=Loja Física<br>Região=%{x}<br>Valor Total (R$)=%{y}<extra></extra>",
         "legendgroup": "Nenhuma",
         "marker": {
          "color": "#AA9FB1",
          "pattern": {
           "shape": ""
          }
         },
         "name": "Nenhuma",
         "offsetgroup": "Nenhuma",
         "orientation": "v",
         "showlegend": false,
         "textfont": {
          "size": 11
         },
         "textposition": "auto",
         "texttemplate": "%{y:.2s}",
         "type": "bar",
         "x": [
          "Oeste",
          "Norte",
          "Sul",
          "Leste",
          "Indefinida",
          "Centro-Oeste"
         ],
         "xaxis": "x2",
         "y": [
          71158.75,
          73123.1,
          73366.95,
          75656.6,
          3261.05,
          79532.7
         ],
         "yaxis": "y2"
        },
        {
         "alignmentgroup": "True",
         "hovertemplate": "Campanha=Campanha A<br>Canal=Online<br>Região=%{x}<br>Valor Total (R$)=%{y}<extra></extra>",
         "legendgroup": "Campanha A",
         "marker": {
          "color": "#7871AA",
          "pattern": {
           "shape": ""
          }
         },
         "name": "Campanha A",
         "offsetgroup": "Campanha A",
         "orientation": "v",
         "showlegend": true,
         "textfont": {
          "size": 11
         },
         "textposition": "auto",
         "texttemplate": "%{y:.2s}",
         "type": "bar",
         "x": [
          "Sul",
          "Centro-Oeste",
          "Oeste",
          "Norte",
          "Indefinida",
          "Leste"
         ],
         "xaxis": "x",
         "y": [
          75124.35,
          73771.45,
          82411.25,
          76892.75,
          4653.2,
          72590.45
         ],
         "yaxis": "y"
        },
        {
         "alignmentgroup": "True",
         "hovertemplate": "Campanha=Campanha A<br>Canal=Loja Física<br>Região=%{x}<br>Valor Total (R$)=%{y}<extra></extra>",
         "legendgroup": "Campanha A",
         "marker": {
          "color": "#7871AA",
          "pattern": {
           "shape": ""
          }
         },
         "name": "Campanha A",
         "offsetgroup": "Campanha A",
         "orientation": "v",
         "showlegend": false,
         "textfont": {
          "size": 11
         },
         "textposition": "auto",
         "texttemplate": "%{y:.2s}",
         "type": "bar",
         "x": [
          "Sul",
          "Oeste",
          "Centro-Oeste",
          "Indefinida",
          "Leste",
          "Norte"
         ],
         "xaxis": "x2",
         "y": [
          85709.35,
          69491.95,
          76137.7,
          3444.1499999999996,
          72210.95,
          81562.05
         ],
         "yaxis": "y2"
        },
        {
         "alignmentgroup": "True",
         "hovertemplate": "Campanha=Campanha B<br>Canal=Online<br>Região=%{x}<br>Valor Total (R$)=%{y}<extra></extra>",
         "legendgroup": "Campanha B",
         "marker": {
          "color": "#4E5283",
          "pattern": {
           "shape": ""
          }
         },
         "name": "Campanha B",
         "offsetgroup": "Campanha B",
         "orientation": "v",
         "showlegend": true,
         "textfont": {
          "size": 11
         },
         "textposition": "auto",
         "texttemplate": "%{y:.2s}",
         "type": "bar",
         "x": [
          "Sul",
          "Oeste",
          "Leste",
          "Centro-Oeste",
          "Indefinida",
          "Norte"
         ],
         "xaxis": "x",
         "y": [
          81373.25,
          75952.85,
          72118.75,
          77405.8,
          3534.3999999999996,
          76700.85
         ],
         "yaxis": "y"
        },
        {
         "alignmentgroup": "True",
         "hovertemplate": "Campanha=Campanha B<br>Canal=Loja Física<br>Região=%{x}<br>Valor Total (R$)=%{y}<extra></extra>",
         "legendgroup": "Campanha B",
         "marker": {
          "color": "#4E5283",
          "pattern": {
           "shape": ""
          }
         },
         "name": "Campanha B",
         "offsetgroup": "Campanha B",
         "orientation": "v",
         "showlegend": false,
         "textfont": {
          "size": 11
         },
         "textposition": "auto",
         "texttemplate": "%{y:.2s}",
         "type": "bar",
         "x": [
          "Sul",
          "Centro-Oeste",
          "Leste",
          "Norte",
          "Oeste",
          "Indefinida"
         ],
         "xaxis": "x2",
         "y": [
          67021.65,
          84605.85,
          84708.65,
          89925.05,
          78278.25,
          3632.1
         ],
         "yaxis": "y2"
        }
       ],
       "layout": {
        "annotations": [
         {
          "font": {},
          "showarrow": false,
          "text": "Canal=Online",
          "x": 0.245,
          "xanchor": "center",
          "xref": "paper",
          "y": 1,
          "yanchor": "bottom",
          "yref": "paper"
         },
         {
          "font": {},
          "showarrow": false,
          "text": "Canal=Loja Física",
          "x": 0.755,
          "xanchor": "center",
          "xref": "paper",
          "y": 1,
          "yanchor": "bottom",
          "yref": "paper"
         }
        ],
        "bargap": 0.15,
        "barmode": "relative",
        "height": 500,
        "legend": {
         "title": {
          "text": "Campanhas"
         },
         "tracegroupgap": 0
        },
        "template": {
         "data": {
          "candlestick": [
           {
            "decreasing": {
             "line": {
              "color": "#000033"
             }
            },
            "increasing": {
             "line": {
              "color": "#000032"
             }
            },
            "type": "candlestick"
           }
          ],
          "contour": [
           {
            "colorscale": [
             [
              0,
              "#000011"
             ],
             [
              0.1111111111111111,
              "#000012"
             ],
             [
              0.2222222222222222,
              "#000013"
             ],
             [
              0.3333333333333333,
              "#000014"
             ],
             [
              0.4444444444444444,
              "#000015"
             ],
             [
              0.5555555555555556,
              "#000016"
             ],
             [
              0.6666666666666666,
              "#000017"
             ],
             [
              0.7777777777777778,
              "#000018"
             ],
             [
              0.8888888888888888,
              "#000019"
             ],
             [
              1,
              "#000020"
             ]
            ],
            "type": "contour"
           }
          ],
          "contourcarpet": [
           {
            "colorscale": [
             [
              0,
              "#000011"
             ],
             [
              0.1111111111111111,
              "#000012"
             ],
             [
              0.2222222222222222,
              "#000013"
             ],
             [
              0.3333333333333333,
              "#000014"
             ],
             [
              0.4444444444444444,
              "#000015"
             ],
             [
              0.5555555555555556,
              "#000016"
             ],
             [
              0.6666666666666666,
              "#000017"
             ],
             [
              0.7777777777777778,
              "#000018"
             ],
             [
              0.8888888888888888,
              "#000019"
             ],
             [
              1,
              "#000020"
             ]
            ],
            "type": "contourcarpet"
           }
          ],
          "heatmap": [
           {
            "colorscale": [
             [
              0,
              "#000011"
             ],
             [
              0.1111111111111111,
              "#000012"
             ],
             [
              0.2222222222222222,
              "#000013"
             ],
             [
              0.3333333333333333,
              "#000014"
             ],
             [
              0.4444444444444444,
              "#000015"
             ],
             [
              0.5555555555555556,
              "#000016"
             ],
             [
              0.6666666666666666,
              "#000017"
             ],
             [
              0.7777777777777778,
              "#000018"
             ],
             [
              0.8888888888888888,
              "#000019"
             ],
             [
              1,
              "#000020"
             ]
            ],
            "type": "heatmap"
           }
          ],
          "histogram2d": [
           {
            "colorscale": [
             [
              0,
              "#000011"
             ],
             [
              0.1111111111111111,
              "#000012"
             ],
             [
              0.2222222222222222,
              "#000013"
             ],
             [
              0.3333333333333333,
              "#000014"
             ],
             [
              0.4444444444444444,
              "#000015"
             ],
             [
              0.5555555555555556,
              "#000016"
             ],
             [
              0.6666666666666666,
              "#000017"
             ],
             [
              0.7777777777777778,
              "#000018"
             ],
             [
              0.8888888888888888,
              "#000019"
             ],
             [
              1,
              "#000020"
             ]
            ],
            "type": "histogram2d"
           }
          ],
          "icicle": [
           {
            "textfont": {
             "color": "white"
            },
            "type": "icicle"
           }
          ],
          "sankey": [
           {
            "textfont": {
             "color": "#000036"
            },
            "type": "sankey"
           }
          ],
          "scatter": [
           {
            "marker": {
             "line": {
              "width": 0
             }
            },
            "type": "scatter"
           }
          ],
          "table": [
           {
            "cells": {
             "fill": {
              "color": "#000038"
             },
             "font": {
              "color": "#000037"
             },
             "line": {
              "color": "#000039"
             }
            },
            "header": {
             "fill": {
              "color": "#000040"
             },
             "font": {
              "color": "#000036"
             },
             "line": {
              "color": "#000039"
             }
            },
            "type": "table"
           }
          ],
          "waterfall": [
           {
            "connector": {
             "line": {
              "color": "#000036",
              "width": 2
             }
            },
            "decreasing": {
             "marker": {
              "color": "#000033"
             }
            },
            "increasing": {
             "marker": {
              "color": "#000032"
             }
            },
            "totals": {
             "marker": {
              "color": "#000034"
             }
            },
            "type": "waterfall"
           }
          ]
         },
         "layout": {
          "coloraxis": {
           "colorscale": [
            [
             0,
             "#000011"
            ],
            [
             0.1111111111111111,
             "#000012"
            ],
            [
             0.2222222222222222,
             "#000013"
            ],
            [
             0.3333333333333333,
             "#000014"
            ],
            [
             0.4444444444444444,
             "#000015"
            ],
            [
             0.5555555555555556,
             "#000016"
            ],
            [
             0.6666666666666666,
             "#000017"
            ],
            [
             0.7777777777777778,
             "#000018"
            ],
            [
             0.8888888888888888,
             "#000019"
            ],
            [
             1,
             "#000020"
            ]
           ]
          },
          "colorscale": {
           "diverging": [
            [
             0,
             "#000021"
            ],
            [
             0.1,
             "#000022"
            ],
            [
             0.2,
             "#000023"
            ],
            [
             0.3,
             "#000024"
            ],
            [
             0.4,
             "#000025"
            ],
            [
             0.5,
             "#000026"
            ],
            [
             0.6,
             "#000027"
            ],
            [
             0.7,
             "#000028"
            ],
            [
             0.8,
             "#000029"
            ],
            [
             0.9,
             "#000030"
            ],
            [
             1,
             "#000031"
            ]
           ],
           "sequential": [
            [
             0,
             "#000011"
            ],
            [
             0.1111111111111111,
             "#000012"
            ],
            [
             0.2222222222222222,
             "#000013"
            ],
            [
             0.3333333333333333,
             "#000014"
            ],
            [
             0.4444444444444444,
             "#000015"
            ],
            [
             0.5555555555555556,
             "#000016"
            ],
            [
             0.6666666666666666,
             "#000017"
            ],
            [
             0.7777777777777778,
             "#000018"
            ],
            [
             0.8888888888888888,
             "#000019"
            ],
            [
             1,
             "#000020"
            ]
           ],
           "sequentialminus": [
            [
             0,
             "#000011"
            ],
            [
             0.1111111111111111,
             "#000012"
            ],
            [
             0.2222222222222222,
             "#000013"
            ],
            [
             0.3333333333333333,
             "#000014"
            ],
            [
             0.4444444444444444,
             "#000015"
            ],
            [
             0.5555555555555556,
             "#000016"
            ],
            [
             0.6666666666666666,
             "#000017"
            ],
            [
             0.7777777777777778,
             "#000018"
            ],
            [
             0.8888888888888888,
             "#000019"
            ],
            [
             1,
             "#000020"
            ]
           ]
          },
          "colorway": [
           "#000001",
           "#000002",
           "#000003",
           "#000004",
           "#000005",
           "#000006",
           "#000007",
           "#000008",
           "#000009",
           "#000010"
          ]
         }
        },
        "title": {
         "font": {
          "size": 18
         },
         "text": "Faturamento por Campanha, Canal e Região"
        },
        "xaxis": {
         "anchor": "y",
         "domain": [
          0,
          0.49
         ],
         "title": {
          "text": "Região"
         }
        },
        "xaxis2": {
         "anchor": "y2",
         "domain": [
          0.51,
          1
         ],
         "matches": "x",
         "title": {
          "text": "Região"
         }
        },
        "yaxis": {
         "anchor": "x",
         "domain": [
          0,
          1
         ],
         "tickprefix": "R$",
         "title": {
          "text": "Valor Total (R$)"
         }
        },
        "yaxis2": {
         "anchor": "x2",
         "domain": [
          0,
          1
         ],
         "matches": "y",
         "showticklabels": false
        }
       }
      }
     },
     "metadata": {},
     "output_type": "display_data"
    }
   ],
   "source": [
    "# Gráfico Interativo: Campanha x Canal x Região\n",
    "\n",
    "# Dados\n",
    "camp_canal_regiao = df_vendas.groupby([\"Região\",\"Campanha_Marketing\",\"Canal_Venda\"])[\"Valor_Final\"].sum().reset_index()\n",
    "\n",
    "ordem_campanha=[\"Nenhuma\",\"Campanha A\",\"Campanha B\"]\n",
    "\n",
    "# Reordenando as campanhas\n",
    "camp_canal_regiao[\"Campanha_Marketing\"] = pd.Categorical(\n",
    "    camp_canal_regiao[\"Campanha_Marketing\"],\n",
    "    categories=ordem_campanha,\n",
    "    ordered=True\n",
    ")\n",
    "\n",
    "camp_canal_regiao=camp_canal_regiao.sort_values(\"Campanha_Marketing\")\n",
    "\n",
    "cores = {\n",
    "    \"Nenhuma\": \"#AA9FB1\",\n",
    "    \"Campanha A\": \"#7871AA\",\n",
    "    \"Campanha B\": \"#4E5283\"\n",
    "}\n",
    "\n",
    "fig = px.bar(\n",
    "    data_frame=camp_canal_regiao,\n",
    "    x=\"Região\",\n",
    "    y=\"Valor_Final\",\n",
    "    color=\"Campanha_Marketing\",\n",
    "    facet_col=\"Canal_Venda\",\n",
    "    text_auto=\".2s\",\n",
    "    labels={\n",
    "        \"Valor_Final\":\"Valor Total (R$)\",\n",
    "        \"Campanha_Marketing\":\"Campanha\",\n",
    "        \"Região\": \"Região\",\n",
    "        \"Canal_Venda\":\"Canal\"\n",
    "    },\n",
    "    color_discrete_map=cores,\n",
    "    title=(\"Faturamento por Campanha, Canal e Região\")   \n",
    ")\n",
    "\n",
    "fig.update_layout(\n",
    "    title_font_size=18,\n",
    "    legend_title=\"Campanhas\",\n",
    "    yaxis_tickprefix=\"R$\",\n",
    "    bargap=0.15,\n",
    "    height=500\n",
    ")\n",
    "fig.update_traces(textfont_size=11)\n",
    "\n",
    "fig.show()"
   ]
  },
  {
   "cell_type": "markdown",
   "id": "dd1e5eb6",
   "metadata": {},
   "source": [
    "Resultado da análise\n",
    "\n",
    "🔹 Canal Online\n",
    "A Campanha A se destaca nas regiões Leste e Oeste enquanto na Norte ambas as campanhas obtêm resultados equivalentes.  \n",
    "Já a Campanha B lidera nas regiões Sul e Centro-Oeste, mas nesta última, o destaque negativo fica por conta do desempenho superior sem nenhuma campanha – um sinal claro de que a estratégia de marketing para essa região precisa ser completamente revisada.\n",
    "\n",
    "🔹 Canal Físico  \n",
    "A Campanha B lidera em todas as regiões, com exceção da Sul onde a Campanha A mostra maior impacto no faturamento.\n",
    "\n",
    "📌 Insight de negócio:  \n",
    "É crucial personalizar as campanhas de acordo com a região e canal de venda Investir mais em campanhas digitais nas regiões onde já performam bem e reavaliar a abordagem no Centro-Oeste, onde os investimentos atuais não estão se traduzindo em retorno.\n"
   ]
  },
  {
   "cell_type": "markdown",
   "id": "893f69d6",
   "metadata": {},
   "source": [
    "### 3.3 Dashboard simples com streamlit"
   ]
  },
  {
   "cell_type": "code",
   "execution_count": null,
   "id": "7aaa659b",
   "metadata": {},
   "outputs": [],
   "source": [
    "# Baixe o arquivo localizado na pasta app, abra o terminal do vs code e execute o comando abaixo:\n",
    "\n",
    "# streamlit run \"seu caminho onde esta o arquivo\"\n",
    "\n",
    "# exemplo de como o caminho deve ser: G:/Meu Drive/Data Science/Sales Insights/app/dashboard.py"
   ]
  },
  {
   "cell_type": "markdown",
   "id": "df3969a9",
   "metadata": {},
   "source": [
    "### 3.4 Criar um Heatmap de Correlação"
   ]
  },
  {
   "cell_type": "code",
   "execution_count": null,
   "id": "2d28777a",
   "metadata": {},
   "outputs": [
    {
     "data": {
      "image/png": "[encoded data removed]",
      "text/plain": [
       "<Figure size 1000x600 with 2 Axes>"
      ]
     },
     "metadata": {},
     "output_type": "display_data"
    }
   ],
   "source": [
    "# Correlação\n",
    "\n",
    "correlação = df_vendas.loc[:,[\"Quantidade\",\"Valor\",\"Valor_Final\",\"Ticket_Medio\"]]\n",
    "\n",
    "matriz_correlação = correlação.corr()\n",
    "\n",
    "# Criando mascara para exibir metade do mapa\n",
    "mask = np.triu(np.ones_like(matriz_correlação, dtype=bool))\n",
    "\n",
    "plt.figure(figsize=(10,6))\n",
    "sns.heatmap(\n",
    "    data=matriz_correlação,\n",
    "    annot=True,\n",
    "    cmap=\"coolwarm\",\n",
    "    fmt=\".2f\",\n",
    "    mask=mask,\n",
    "    linewidths=0.5,\n",
    "    cbar_kws={\"shrink\":0.7}\n",
    ")\n",
    "\n",
    "plt.title(\"Mapa de Correlação das Variáveis Numéricas\", fontsize=16)\n",
    "plt.show()"
   ]
  },
  {
   "cell_type": "markdown",
   "id": "0f3e315a",
   "metadata": {},
   "source": [
    "Resultado da analise\n",
    "\n",
    "🔹 Análise de Correlação das Variáveis Numéricas\n",
    "Realizamos uma análise de correlação entre as variáveis numéricas do conjunto de dados: Quantidade, Valor, Valor_Final e Ticket_Medio.\n",
    "\n",
    "O mapa de calor gerado evidenciou que:\n",
    "\n",
    "A maior correlação observada foi entre Valor e Valor_Final (0,69), indicando uma relação moderada.\n",
    "\n",
    "Também houve uma correlação moderada entre Quantidade e Valor_Final (0,62).\n",
    "\n",
    "As demais correlações foram muito baixas (próximas de zero), sugerindo pouca ou nenhuma relação linear direta entre as variáveis analisadas.\n",
    "\n",
    "Destaca-se a baixa correlação do Ticket_Medio com as demais variáveis, o que sugere que o ticket médio dos clientes é relativamente independente das quantidades vendidas e dos valores unitários.\n",
    "\n",
    "Esses resultados indicam que não há forte multicolinearidade entre as variáveis, o que é positivo para futuros modelos preditivos."
   ]
  },
  {
   "cell_type": "code",
   "execution_count": null,
   "id": "2df9204c",
   "metadata": {},
   "outputs": [
    {
     "name": "stdout",
     "output_type": "stream",
     "text": [
      "Canal de venda Loja Física\n"
     ]
    },
    {
     "data": {
      "text/html": [
       "<div>\n",
       "<style scoped>\n",
       "    .dataframe tbody tr th:only-of-type {\n",
       "        vertical-align: middle;\n",
       "    }\n",
       "\n",
       "    .dataframe tbody tr th {\n",
       "        vertical-align: top;\n",
       "    }\n",
       "\n",
       "    .dataframe thead th {\n",
       "        text-align: right;\n",
       "    }\n",
       "</style>\n",
       "<table border=\"1\" class=\"dataframe\">\n",
       "  <thead>\n",
       "    <tr style=\"text-align: right;\">\n",
       "      <th></th>\n",
       "      <th>Quantidade</th>\n",
       "      <th>Valor</th>\n",
       "      <th>Valor_Final</th>\n",
       "      <th>Ticket_Medio</th>\n",
       "    </tr>\n",
       "  </thead>\n",
       "  <tbody>\n",
       "    <tr>\n",
       "      <th>Quantidade</th>\n",
       "      <td>1.000000</td>\n",
       "      <td>0.002765</td>\n",
       "      <td>0.621990</td>\n",
       "      <td>0.045010</td>\n",
       "    </tr>\n",
       "    <tr>\n",
       "      <th>Valor</th>\n",
       "      <td>0.002765</td>\n",
       "      <td>1.000000</td>\n",
       "      <td>0.688397</td>\n",
       "      <td>0.065687</td>\n",
       "    </tr>\n",
       "    <tr>\n",
       "      <th>Valor_Final</th>\n",
       "      <td>0.621990</td>\n",
       "      <td>0.688397</td>\n",
       "      <td>1.000000</td>\n",
       "      <td>0.084232</td>\n",
       "    </tr>\n",
       "    <tr>\n",
       "      <th>Ticket_Medio</th>\n",
       "      <td>0.045010</td>\n",
       "      <td>0.065687</td>\n",
       "      <td>0.084232</td>\n",
       "      <td>1.000000</td>\n",
       "    </tr>\n",
       "  </tbody>\n",
       "</table>\n",
       "</div>"
      ],
      "text/plain": [
       "              Quantidade     Valor  Valor_Final  Ticket_Medio\n",
       "Quantidade      1.000000  0.002765     0.621990      0.045010\n",
       "Valor           0.002765  1.000000     0.688397      0.065687\n",
       "Valor_Final     0.621990  0.688397     1.000000      0.084232\n",
       "Ticket_Medio    0.045010  0.065687     0.084232      1.000000"
      ]
     },
     "metadata": {},
     "output_type": "display_data"
    },
    {
     "name": "stdout",
     "output_type": "stream",
     "text": [
      "Canal de venda Online\n"
     ]
    },
    {
     "data": {
      "text/html": [
       "<div>\n",
       "<style scoped>\n",
       "    .dataframe tbody tr th:only-of-type {\n",
       "        vertical-align: middle;\n",
       "    }\n",
       "\n",
       "    .dataframe tbody tr th {\n",
       "        vertical-align: top;\n",
       "    }\n",
       "\n",
       "    .dataframe thead th {\n",
       "        text-align: right;\n",
       "    }\n",
       "</style>\n",
       "<table border=\"1\" class=\"dataframe\">\n",
       "  <thead>\n",
       "    <tr style=\"text-align: right;\">\n",
       "      <th></th>\n",
       "      <th>Quantidade</th>\n",
       "      <th>Valor</th>\n",
       "      <th>Valor_Final</th>\n",
       "      <th>Ticket_Medio</th>\n",
       "    </tr>\n",
       "  </thead>\n",
       "  <tbody>\n",
       "    <tr>\n",
       "      <th>Quantidade</th>\n",
       "      <td>1.000000</td>\n",
       "      <td>-0.003960</td>\n",
       "      <td>0.621513</td>\n",
       "      <td>0.044672</td>\n",
       "    </tr>\n",
       "    <tr>\n",
       "      <th>Valor</th>\n",
       "      <td>-0.003960</td>\n",
       "      <td>1.000000</td>\n",
       "      <td>0.686681</td>\n",
       "      <td>0.065348</td>\n",
       "    </tr>\n",
       "    <tr>\n",
       "      <th>Valor_Final</th>\n",
       "      <td>0.621513</td>\n",
       "      <td>0.686681</td>\n",
       "      <td>1.000000</td>\n",
       "      <td>0.089824</td>\n",
       "    </tr>\n",
       "    <tr>\n",
       "      <th>Ticket_Medio</th>\n",
       "      <td>0.044672</td>\n",
       "      <td>0.065348</td>\n",
       "      <td>0.089824</td>\n",
       "      <td>1.000000</td>\n",
       "    </tr>\n",
       "  </tbody>\n",
       "</table>\n",
       "</div>"
      ],
      "text/plain": [
       "              Quantidade     Valor  Valor_Final  Ticket_Medio\n",
       "Quantidade      1.000000 -0.003960     0.621513      0.044672\n",
       "Valor          -0.003960  1.000000     0.686681      0.065348\n",
       "Valor_Final     0.621513  0.686681     1.000000      0.089824\n",
       "Ticket_Medio    0.044672  0.065348     0.089824      1.000000"
      ]
     },
     "metadata": {},
     "output_type": "display_data"
    }
   ],
   "source": [
    "# Vamos analisar a correlação por Canal de Venda\n",
    "\n",
    "for canal, grupo in df_vendas.groupby(\"Canal_Venda\"):\n",
    "    print(f\"Canal de venda {canal}\")\n",
    "    matriz_correlação = grupo[[\"Quantidade\",\"Valor\",\"Valor_Final\",\"Ticket_Medio\" ]].corr()\n",
    "    display(matriz_correlação)"
   ]
  },
  {
   "cell_type": "markdown",
   "id": "d0f5e577",
   "metadata": {},
   "source": [
    "Bonus"
   ]
  },
  {
   "cell_type": "code",
   "execution_count": null,
   "id": "cb011370",
   "metadata": {},
   "outputs": [
    {
     "data": {
      "image/png": "[encoded data removed]",
      "text/plain": [
       "<Figure size 1000x600 with 1 Axes>"
      ]
     },
     "metadata": {},
     "output_type": "display_data"
    }
   ],
   "source": [
    "# 1. Agrupar e calcular a média\n",
    "media_valor_final_canal = df_vendas.groupby(\"Canal_Venda\")[\"Valor_Final\"].mean().sort_values(ascending=False).round(2)\n",
    "\n",
    "# 2. Plotar o gráfico\n",
    "plt.figure(figsize=(10,6))\n",
    "plt.barh(\n",
    "    y=media_valor_final_canal.index,\n",
    "    width=media_valor_final_canal.values,\n",
    "    color=\"skyblue\"\n",
    ")\n",
    "\n",
    "# 3. Ajustes visuais\n",
    "plt.title(\"Loja Física apresenta o maior ticket médio entre os canais de venda\", fontsize=16, loc=\"left\")\n",
    "plt.xlabel(\"Ticket Médio (R$)\", fontsize=12)\n",
    "plt.ylabel(\"Canal de Venda\", fontsize=12)\n",
    "plt.grid(False)\n",
    "plt.gca().invert_yaxis()  # Canal de maior média no topo\n",
    "plt.show()"
   ]
  }
 ],
 "metadata": {
  "language_info": {
   "name": "python"
  }
 },
 "nbformat": 4,
 "nbformat_minor": 5
}
